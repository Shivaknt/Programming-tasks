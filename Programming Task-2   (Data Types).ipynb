{
 "cells": [
  {
   "cell_type": "code",
   "execution_count": 2,
   "id": "3ebcc735",
   "metadata": {},
   "outputs": [
    {
     "name": "stdout",
     "output_type": "stream",
     "text": [
      "2\n",
      "2\n",
      "2\n",
      "2\n",
      "[[0, 0, 0], [0, 0, 1], [0, 1, 0], [0, 1, 2], [0, 2, 1], [0, 2, 2], [1, 0, 0], [1, 0, 2], [1, 1, 1], [1, 1, 2], [1, 2, 0], [1, 2, 1], [1, 2, 2], [2, 0, 1], [2, 0, 2], [2, 1, 0], [2, 1, 1], [2, 1, 2], [2, 2, 0], [2, 2, 1], [2, 2, 2]]\n"
     ]
    }
   ],
   "source": [
    "##   1. LISTS COMPREHENSIONS...\n",
    "\n",
    "\n",
    "if __name__ == '__main__':\n",
    "    x = int(input())\n",
    "    y = int(input())\n",
    "    z = int(input())\n",
    "    n = int(input())\n",
    "    \n",
    "output=[];\n",
    "abc=[];\n",
    "\n",
    "for x in range(x+1):\n",
    "    for y in range(y+1):\n",
    "        for z in range(z+1):\n",
    "            if x+y+z!=n:\n",
    "                abc=[x,y,z];\n",
    "                output.append(abc);\n",
    "                \n",
    "print(output);\n"
   ]
  },
  {
   "cell_type": "code",
   "execution_count": 5,
   "id": "e379f427",
   "metadata": {},
   "outputs": [
    {
     "name": "stdout",
     "output_type": "stream",
     "text": [
      "5\n",
      "2 3 5 6 6\n",
      "5\n"
     ]
    }
   ],
   "source": [
    "## 2.FIND THE RUNNER-UP SCORE .....\n",
    "\n",
    "if __name__ == '__main__':\n",
    "    n = int(input())\n",
    "    arr = list(map(int, input().split()))\n",
    "    m=sorted(arr)\n",
    "    l=set(m)\n",
    "    l=list(l)\n",
    "    print((l[-2]))\n"
   ]
  },
  {
   "cell_type": "code",
   "execution_count": 6,
   "id": "3ed8d58a",
   "metadata": {},
   "outputs": [
    {
     "name": "stdout",
     "output_type": "stream",
     "text": [
      "5\n",
      "Harry \n",
      "37.21\n",
      "Berry\n",
      "37.21\n",
      "Tina \n",
      "37.2\n",
      "Akriti\n",
      "41\n",
      "Harsh\n",
      "39\n",
      "Berry\n",
      "Harry \n"
     ]
    }
   ],
   "source": [
    "## 3. NESTED LISTS......\n",
    "\n",
    "\n",
    "if __name__ == '__main__':\n",
    "    students = []\n",
    "    for _ in range(int(input())):\n",
    "        name = input()\n",
    "        score = float(input())\n",
    "        students.append([name,score]) \n",
    "    x = 99999\n",
    "    for i in range(len(students)):\n",
    "        if x > float(students[i][1]):\n",
    "            x = float(students[i][1])\n",
    "    y = 999999\n",
    "    for i in range(len(students)):\n",
    "        if float(students[i][1]) > float(x) and y > float(students[i][1]):\n",
    "            y = float(students[i][1])\n",
    "    runner = []\n",
    "    for i in range(len(students)):\n",
    "        if float(students[i][1]) == float(y):\n",
    "            runner.append(students[i][0])\n",
    "    runner = sorted(runner)\n",
    "\n",
    "    for i in range(len(runner)):\n",
    "        print(runner[i])\n"
   ]
  },
  {
   "cell_type": "code",
   "execution_count": 8,
   "id": "318ee9c9",
   "metadata": {},
   "outputs": [
    {
     "name": "stdout",
     "output_type": "stream",
     "text": [
      "2\n",
      "Harsh 25 26.5 28\n",
      "Anurag 26 28 30\n",
      "Harsh\n",
      "26.50\n"
     ]
    }
   ],
   "source": [
    "## 4. FIND THE PERCENTAGE....\n",
    "\n",
    "if __name__ == '__main__':\n",
    "    n = int(input())\n",
    "    student_marks = {}\n",
    "    for _ in range(n):\n",
    "        name, *line = input().split()\n",
    "        scores = list(map(float, line))\n",
    "        student_marks[name] = scores\n",
    "    query_name = input()\n",
    "    \n",
    "    if query_name in student_marks:\n",
    "        x = ((float(student_marks[query_name][0]) + float(student_marks[query_name][1]) + float(student_marks[query_name][2])) / 3)\n",
    "    \n",
    "    print('%.2f' % x)"
   ]
  },
  {
   "cell_type": "code",
   "execution_count": 9,
   "id": "48a802ff",
   "metadata": {},
   "outputs": [
    {
     "name": "stdout",
     "output_type": "stream",
     "text": [
      "12\n",
      "insert 0 5\n",
      "insert 1 10\n",
      "insert 0 6\n",
      "print\n",
      "[6, 5, 10]\n",
      "remove 6\n",
      "append 1\n",
      "append 9\n",
      "sort\n",
      "print\n",
      "[1, 5, 9, 10]\n",
      "pop\n",
      "reverse\n",
      "print\n",
      "[9, 5, 1]\n"
     ]
    }
   ],
   "source": [
    "### 5. LISTS ...\n",
    "\n",
    "\n",
    "if __name__ == '__main__':\n",
    "    N = int(input())\n",
    "    L=[];\n",
    "    for i in range(0,N):\n",
    "        cmd=input().split();\n",
    "        if cmd[0] == \"insert\":\n",
    "            L.insert(int(cmd[1]),int(cmd[2]))\n",
    "        elif cmd[0] == \"append\":\n",
    "            L.append(int(cmd[1]))\n",
    "        elif cmd[0] == \"pop\":\n",
    "            L.pop();\n",
    "        elif cmd[0] == \"print\":\n",
    "            print(L)\n",
    "        elif cmd[0] == \"remove\":\n",
    "            L.remove(int(cmd[1]))\n",
    "        elif cmd[0] == \"sort\":\n",
    "            L.sort();\n",
    "        else:\n",
    "            L.reverse();\n"
   ]
  },
  {
   "cell_type": "code",
   "execution_count": 10,
   "id": "24daa293",
   "metadata": {},
   "outputs": [
    {
     "name": "stdout",
     "output_type": "stream",
     "text": [
      "2\n",
      "1 2\n",
      "3550055125485641917\n"
     ]
    }
   ],
   "source": [
    "### 6. TUPLES....\n",
    "\n",
    "\n",
    "if __name__ == '__main__':\n",
    "    n = int(input())\n",
    "    integer_list = map(int, input().split())\n",
    "    t = tuple(integer_list)\n",
    "    print(abs(hash(t)));\n",
    "   \n",
    "\n"
   ]
  },
  {
   "cell_type": "code",
   "execution_count": 11,
   "id": "88f75fab",
   "metadata": {},
   "outputs": [
    {
     "name": "stdout",
     "output_type": "stream",
     "text": [
      "10\n",
      "161 182 161 154 176 170 167 171 170 174\n",
      "169.375\n"
     ]
    }
   ],
   "source": [
    "## 7. INTRODUCTION TO SETS....\n",
    "\n",
    "\n",
    "def average(array):\n",
    "    # your code goes here\n",
    "    sum_array = sum(set(array))\n",
    "    len_array = len(set(array))\n",
    "    output = sum_array/len_array\n",
    "    return output\n",
    "    \n",
    "\n",
    "if __name__ == '__main__':\n",
    "    n = int(input())\n",
    "    arr = list(map(int, input().split()))\n",
    "    result = average(arr)\n",
    "    print(result)"
   ]
  },
  {
   "cell_type": "code",
   "execution_count": 12,
   "id": "5fe0a184",
   "metadata": {},
   "outputs": [
    {
     "name": "stdout",
     "output_type": "stream",
     "text": [
      "3 2\n",
      "1 5 3\n",
      "3 1 \n",
      "5 7\n",
      "1\n"
     ]
    }
   ],
   "source": [
    "### 8.   NO IDEA!... \n",
    "\n",
    "\n",
    "n, m = input().split()\n",
    "\n",
    "sc_ar = input().split()\n",
    "\n",
    "A = set(input().split())\n",
    "B = set(input().split())\n",
    "print(sum([(i in A) - (i in B) for i in sc_ar]))\n"
   ]
  },
  {
   "cell_type": "code",
   "execution_count": 13,
   "id": "aec801a9",
   "metadata": {},
   "outputs": [
    {
     "name": "stdout",
     "output_type": "stream",
     "text": [
      "4\n",
      "2 4 5 9\n",
      "4\n",
      "2 4 11 12\n",
      "5\n",
      "9\n",
      "11\n",
      "12\n"
     ]
    }
   ],
   "source": [
    "## 9.  SYMMMETRIC DIFFRENCE.... \n",
    "\n",
    "M = int(input())\n",
    "mset = set(map(int, input().split()))\n",
    "N = int(input())\n",
    "nset = set(map(int, input().split()))\n",
    "\n",
    "mdef = mset.difference(nset)\n",
    "ndef = nset.difference(mset)\n",
    "\n",
    "output = mdef.union(ndef)\n",
    "\n",
    "for i in sorted(list(output)):\n",
    "    print(i)\n"
   ]
  },
  {
   "cell_type": "code",
   "execution_count": 14,
   "id": "20fa8597",
   "metadata": {},
   "outputs": [
    {
     "name": "stdout",
     "output_type": "stream",
     "text": [
      "7\n",
      "UK\n",
      "CHINA \n",
      "USA \n",
      "FRANCE\n",
      "NEW ZEALAND\n",
      "UK\n",
      "FRANCE\n",
      "5\n"
     ]
    }
   ],
   "source": [
    "### 10. SET.ADD()....\n",
    "\n",
    "\n",
    "N = int(input())\n",
    "\n",
    "countries = set()\n",
    "\n",
    "for i in range(N):\n",
    "    countries.add(input())\n",
    "\n",
    "print(len(countries))\n"
   ]
  },
  {
   "cell_type": "code",
   "execution_count": 17,
   "id": "1c006a20",
   "metadata": {},
   "outputs": [
    {
     "name": "stdout",
     "output_type": "stream",
     "text": [
      "9\n",
      "1 2 3 4 5 6 7 8 9\n",
      "10 \n",
      "pop\n",
      "remove 9\n",
      "discard 9\n",
      "discard 8\n",
      "remove 7\n",
      "pop\n",
      "discard 6\n",
      "remove 5\n",
      "pop\n",
      "discard 5\n",
      "4\n"
     ]
    }
   ],
   "source": [
    "###   11.  Set .discard(), .remove() & .pop()...\n",
    "\n",
    "\n",
    "n = int(input())\n",
    "s = set(map(int, input().split()))\n",
    "N=int(input())\n",
    "for cmd in range(N):\n",
    "    cmd=input().split()\n",
    "    if cmd[0]=='pop':\n",
    "        s.pop()\n",
    "    if cmd[0]=='remove':\n",
    "        s.remove(int(cmd[1]))\n",
    "    if cmd[0]=='discard':\n",
    "        s.discard(int(cmd[1]))\n",
    "        \n",
    "\n",
    "total=0\n",
    "for i in s:\n",
    "    total=total+i \n",
    "    \n",
    "print(total)\n",
    "\n"
   ]
  },
  {
   "cell_type": "code",
   "execution_count": 18,
   "id": "9cd18bad",
   "metadata": {},
   "outputs": [
    {
     "name": "stdout",
     "output_type": "stream",
     "text": [
      "9\n",
      "1 2 3 4 5 6 7 8 9\n",
      "9\n",
      "10 1 2 3 11 21 55 6 8\n",
      "13\n"
     ]
    }
   ],
   "source": [
    "## 12.  SET UNION OPERATION ..\n",
    "\n",
    "\n",
    "english=input()\n",
    "roll=set(input().split())\n",
    "french=input()\n",
    "num=set(input().split())\n",
    "    \n",
    "s=roll.union(num)\n",
    "print(len(s))\n"
   ]
  },
  {
   "cell_type": "code",
   "execution_count": 19,
   "id": "74fdebd8",
   "metadata": {},
   "outputs": [
    {
     "name": "stdout",
     "output_type": "stream",
     "text": [
      "9\n",
      "1 2 3 4 5 6 7 8 9\n",
      "9\n",
      "10 1 2 3 11 21 55 6 8\n",
      "5\n"
     ]
    }
   ],
   "source": [
    "##. 13.  SET INTERSECTION OPERATION...\n",
    "\n",
    "\n",
    "english=int(input())\n",
    "eng=set(input().split())\n",
    "french=int(input())\n",
    "fre=set(input().split())\n",
    "\n",
    "p=eng.intersection(fre)\n",
    "print(len(p))\n"
   ]
  },
  {
   "cell_type": "code",
   "execution_count": 20,
   "id": "1125b5d7",
   "metadata": {},
   "outputs": [
    {
     "name": "stdout",
     "output_type": "stream",
     "text": [
      "9\n",
      "1 2 3 4 5 6 7 8 9\n",
      "9\n",
      "10 1 2 3 11 21 55 6 8\n",
      "4\n"
     ]
    }
   ],
   "source": [
    "## 14 .  SET DIFFERENCE OPERATION .....\n",
    "\n",
    "\n",
    "# Enter your code here. Read input from STDIN. Print output to STDOUT\n",
    "english=int(input())\n",
    "eng=set(input().split())\n",
    "french=int(input())\n",
    "fre=set(input().split())\n",
    "\n",
    "s= eng.difference(fre)\n",
    "print(len(s))\n",
    "\n",
    "\n",
    "\n"
   ]
  },
  {
   "cell_type": "code",
   "execution_count": 21,
   "id": "9bbba9f4",
   "metadata": {},
   "outputs": [
    {
     "name": "stdout",
     "output_type": "stream",
     "text": [
      "9\n",
      "1 2 3 4 5 6 7 8 9\n",
      "9\n",
      "10 1 2 3 11 21 55 6 8\n",
      "8\n"
     ]
    }
   ],
   "source": [
    "## 15. SET SYMMETRIC DIFFERNCE OPERATION...\n",
    "\n",
    "\n",
    "# Enter your code here. Read input from STDIN. Print output to STDOUT\n",
    "a=input()\n",
    "a1=set(input().split())\n",
    "b=input()\n",
    "b1=set(input().split())\n",
    "\n",
    "s=a1.symmetric_difference(b1)\n",
    "print(len(s))\n"
   ]
  },
  {
   "cell_type": "code",
   "execution_count": 22,
   "id": "659cc465",
   "metadata": {},
   "outputs": [
    {
     "name": "stdout",
     "output_type": "stream",
     "text": [
      "16\n",
      " 1 2 3 4 5 6 7 8 9 10 11 12 13 14 24 52\n",
      "4\n",
      "intersection_update 10\n",
      "2 3 5 6 8 9 1 4 7 11\n",
      "update 2\n",
      "55 66\n",
      "symmetric_difference_update 5\n",
      "22 7 35 62 58\n",
      "difference_update 7\n",
      "11 22 35 55 58 62 66\n",
      "38\n"
     ]
    }
   ],
   "source": [
    "## 16. SET MUTATIONS....\n",
    "\n",
    "\n",
    "if __name__ == '__main__':\n",
    "    (_, A) = (int(input()),set(map(int, input().split())))\n",
    "    B = int(input())\n",
    "    for _ in range(B):\n",
    "        (command, newSet) = (input().split()[0],set(map(int, input().split())))\n",
    "        getattr(A, command)(newSet)\n",
    "\n",
    "    print (sum(A))\n"
   ]
  },
  {
   "cell_type": "code",
   "execution_count": 23,
   "id": "4e402228",
   "metadata": {},
   "outputs": [
    {
     "name": "stdout",
     "output_type": "stream",
     "text": [
      "5\n",
      "1 2 3 6 5 4 4 2 5 3 6 1 6 5 3 2 4 1 2 5 1 4 3 6 8 4 3 1 5 6 2 \n",
      "8\n"
     ]
    }
   ],
   "source": [
    "### 17 . THE CAPTAINS ROOM....\n",
    "\n",
    "\n",
    "k=int(input())\n",
    "l=list(map(int,input().split()))\n",
    "m = set(l)\n",
    "\n",
    "print(((sum(m)*k)-(sum(l)))//(k-1))\n"
   ]
  },
  {
   "cell_type": "code",
   "execution_count": 25,
   "id": "5e0467ba",
   "metadata": {},
   "outputs": [
    {
     "name": "stdout",
     "output_type": "stream",
     "text": [
      "3\n",
      "5\n",
      "1 2 3 5 6\n",
      "9\n",
      "9 8 5 6 3 2 1 4 7\n",
      "True\n",
      "1\n",
      "2\n",
      "5\n",
      "3 6 5 4 1\n",
      "False\n",
      "7\n",
      "1 2 3 5 6 8 9\n",
      "3\n",
      "9 8 2\n",
      "False\n"
     ]
    }
   ],
   "source": [
    "## 18. CHECK SETS ...\n",
    "\n",
    "\n",
    "t=int(input())\n",
    "for _ in range(t):\n",
    "    n1=int(input())\n",
    "    a=set(map(int,input().split()))\n",
    "    n2=int(input())\n",
    "    b=set(map(int,input().split()))\n",
    "    print(a.issubset(b))\n"
   ]
  },
  {
   "cell_type": "code",
   "execution_count": 26,
   "id": "ed0d18b9",
   "metadata": {},
   "outputs": [
    {
     "name": "stdout",
     "output_type": "stream",
     "text": [
      "1 2 3 4 5 6 7 8 9 10 11 12 23 45 84 78\n",
      "2\n",
      "1 2 3 4 5\n",
      "100 11 12\n",
      "False\n"
     ]
    }
   ],
   "source": [
    "##. 19. CHECK STRICT SUPER SUBSET....\n",
    "\n",
    "\n",
    "a=set(map(int,input().split()))\n",
    "n=int(input())\n",
    "out=True\n",
    "for _ in range(n):\n",
    "    s=set(map(int,input().split()))\n",
    "    if not s.issubset(a):\n",
    "        out=False\n",
    "    if len(s)>=len(a):\n",
    "        out=False\n",
    "        \n",
    "print(out)\n"
   ]
  },
  {
   "cell_type": "code",
   "execution_count": null,
   "id": "db20404e",
   "metadata": {},
   "outputs": [],
   "source": []
  }
 ],
 "metadata": {
  "kernelspec": {
   "display_name": "Python 3 (ipykernel)",
   "language": "python",
   "name": "python3"
  },
  "language_info": {
   "codemirror_mode": {
    "name": "ipython",
    "version": 3
   },
   "file_extension": ".py",
   "mimetype": "text/x-python",
   "name": "python",
   "nbconvert_exporter": "python",
   "pygments_lexer": "ipython3",
   "version": "3.10.5"
  }
 },
 "nbformat": 4,
 "nbformat_minor": 5
}
