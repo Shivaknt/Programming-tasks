{
 "cells": [
  {
   "cell_type": "code",
   "execution_count": 11,
   "id": "3975d2dc",
   "metadata": {},
   "outputs": [
    {
     "name": "stdout",
     "output_type": "stream",
     "text": [
      "Hello, World!\n"
     ]
    }
   ],
   "source": [
    "#1..SAY \"HELLO, WORLD!\" WITH PYTHON....\n",
    "\n",
    "print(\"Hello, World!\")\n",
    "\n"
   ]
  },
  {
   "cell_type": "code",
   "execution_count": 12,
   "id": "4e3c47bc",
   "metadata": {},
   "outputs": [
    {
     "name": "stdout",
     "output_type": "stream",
     "text": [
      "7\n",
      "Weird\n"
     ]
    }
   ],
   "source": [
    "#2..PYTHON IF-ELSE.....\n",
    "\n",
    "\n",
    "\n",
    "import math\n",
    "import os\n",
    "import random\n",
    "import re\n",
    "import sys\n",
    "\n",
    "\n",
    "\n",
    "if __name__ == '__main__':\n",
    "    n = int(input().strip())\n",
    "    if n%2 != 0:\n",
    "        print(\"Weird\")\n",
    "    else :\n",
    "        if(n>=2 and n<=5):\n",
    "            print(\"Not Weird\")\n",
    "        elif(n>=6 and n<=20):\n",
    "            print(\"Weird\")\n",
    "        elif(n>20):\n",
    "            print(\"Not Weird\")\n"
   ]
  },
  {
   "cell_type": "code",
   "execution_count": 13,
   "id": "3519bc72",
   "metadata": {},
   "outputs": [
    {
     "name": "stdout",
     "output_type": "stream",
     "text": [
      "5\n",
      "6\n",
      "11\n",
      "-1\n",
      "30\n"
     ]
    }
   ],
   "source": [
    "#3.ARTHEMETIC PERATION....\n",
    "\n",
    "if __name__ == '__main__':\n",
    "    a = int(input())\n",
    "    b = int(input())\n",
    "    print(a+b)\n",
    "    print(a-b)\n",
    "    print(a*b)\n"
   ]
  },
  {
   "cell_type": "code",
   "execution_count": 14,
   "id": "2061d68c",
   "metadata": {},
   "outputs": [
    {
     "name": "stdout",
     "output_type": "stream",
     "text": [
      "4\n",
      "3\n",
      "1\n",
      "1.3333333333333333\n"
     ]
    }
   ],
   "source": [
    "#4..PYTHON:DIVISION..\n",
    "\n",
    "if __name__ == '__main__':\n",
    "    a = int(input())\n",
    "    b = int(input())\n",
    "    print(a//b)\n",
    "    print(a/b)\n"
   ]
  },
  {
   "cell_type": "code",
   "execution_count": 15,
   "id": "e5feed40",
   "metadata": {},
   "outputs": [
    {
     "name": "stdout",
     "output_type": "stream",
     "text": [
      "7\n",
      "0\n",
      "1\n",
      "4\n",
      "9\n",
      "16\n",
      "25\n",
      "36\n"
     ]
    }
   ],
   "source": [
    "#..5 LOOPS ...\n",
    "\n",
    "if __name__ == '__main__':\n",
    "    n = int(input())\n",
    "    for i in range(0,n) :\n",
    "         print(i*i)    "
   ]
  },
  {
   "cell_type": "code",
   "execution_count": 16,
   "id": "4ed4c440",
   "metadata": {},
   "outputs": [
    {
     "name": "stdout",
     "output_type": "stream",
     "text": [
      "1990\n",
      "False\n"
     ]
    }
   ],
   "source": [
    "# 6..PRINT A FUNCTION ..\n",
    "\n",
    "def is_leap(year):\n",
    "    leap = True\n",
    "    if (year % 400 == 0):\n",
    "        return True\n",
    "    elif year % 4==0 and year % 100 !=0 :\n",
    "          return True\n",
    "    else:\n",
    "        return False  \n",
    "    \n",
    "        return leap\n",
    "        \n",
    "year = int(input())\n",
    "print(is_leap(year))"
   ]
  },
  {
   "cell_type": "code",
   "execution_count": 18,
   "id": "7437685c",
   "metadata": {},
   "outputs": [
    {
     "name": "stdout",
     "output_type": "stream",
     "text": [
      "9\n",
      "1 2 3 4 5 6 7 8 9 "
     ]
    }
   ],
   "source": [
    "#7. WRITE  A  FUNCTION \n",
    "\n",
    "if __name__ == '__main__':\n",
    "    n = int(input())\n",
    "    for i in range(1,n+1):\n",
    "        print(i,end=' ');\n"
   ]
  },
  {
   "cell_type": "code",
   "execution_count": null,
   "id": "887c9993",
   "metadata": {},
   "outputs": [],
   "source": []
  }
 ],
 "metadata": {
  "kernelspec": {
   "display_name": "Python 3 (ipykernel)",
   "language": "python",
   "name": "python3"
  },
  "language_info": {
   "codemirror_mode": {
    "name": "ipython",
    "version": 3
   },
   "file_extension": ".py",
   "mimetype": "text/x-python",
   "name": "python",
   "nbconvert_exporter": "python",
   "pygments_lexer": "ipython3",
   "version": "3.10.5"
  }
 },
 "nbformat": 4,
 "nbformat_minor": 5
}
