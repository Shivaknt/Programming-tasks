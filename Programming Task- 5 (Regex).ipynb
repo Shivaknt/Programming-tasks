{
 "cells": [
  {
   "cell_type": "code",
   "execution_count": 1,
   "id": "79951a77",
   "metadata": {},
   "outputs": [
    {
     "name": "stdout",
     "output_type": "stream",
     "text": [
      "100,000,000.000\n",
      "100\n",
      "000\n",
      "000\n",
      "000\n"
     ]
    }
   ],
   "source": [
    "## 1. RE. SPLIT()....\n",
    "\n",
    "\n",
    "regex_pattern = r\"[.,]+\"\n",
    "\n",
    "import re\n",
    "print(\"\\n\".join(re.split(regex_pattern, input())))"
   ]
  },
  {
   "cell_type": "code",
   "execution_count": 2,
   "id": "f2f42bdd",
   "metadata": {},
   "outputs": [
    {
     "name": "stdout",
     "output_type": "stream",
     "text": [
      "4\n",
      "4.0O0\n",
      "False\n",
      "-1.00\n",
      "True\n",
      "+4.54\n",
      "True\n",
      "SomeRandomStuff\n",
      "False\n"
     ]
    }
   ],
   "source": [
    "## 2. DETECTING FLOATING POINT NUMBER..\n",
    "\n",
    "import re\n",
    "for _ in range(int(input())):\n",
    "    print(re.search(r'^([-\\+])?\\d*\\.\\d+$', input()) is not None)"
   ]
  },
  {
   "cell_type": "code",
   "execution_count": 3,
   "id": "bdc07969",
   "metadata": {},
   "outputs": [
    {
     "name": "stdout",
     "output_type": "stream",
     "text": [
      "..12345678910111213141516171820212223\n",
      "1\n"
     ]
    }
   ],
   "source": [
    "## 3. GROUPS(), GROUPSDICT()....\n",
    "\n",
    "import re\n",
    "m = re.findall(r\"([A-Za-z0-9])\\1+\",input())\n",
    "if m:\n",
    "    print(m[0])\n",
    "else:\n",
    "    print(-1)\n"
   ]
  },
  {
   "cell_type": "code",
   "execution_count": 4,
   "id": "c30da0a5",
   "metadata": {},
   "outputs": [
    {
     "name": "stdout",
     "output_type": "stream",
     "text": [
      "rabcdeefgyYhFjkIoomnpOeorteeeeet\n",
      "ee\n",
      "Ioo\n",
      "Oeo\n",
      "eeeee\n"
     ]
    }
   ],
   "source": [
    "## 4. RE.FINDALL AND RE.FINDTER ....\n",
    "\n",
    "import re\n",
    "v = \"aeiou\"\n",
    "c = \"qwrtypsdfghjklzxcvbnm\"\n",
    "m = re.findall(r\"(?<=[%s])([%s]{2,})[%s]\" % (c, v, c), input(), flags = re.I)\n",
    "print('\\n'.join(m or ['-1']))"
   ]
  },
  {
   "cell_type": "code",
   "execution_count": 5,
   "id": "5d89aa1b",
   "metadata": {},
   "outputs": [
    {
     "name": "stdout",
     "output_type": "stream",
     "text": [
      "aaadaa\n",
      "aa\n",
      "(0, 1)\n",
      "(1, 2)\n",
      "(4, 5)\n"
     ]
    }
   ],
   "source": [
    "## 5. RE.START AND RE.END()  ...\n",
    "\n",
    "S = input()\n",
    "k = input()\n",
    "import re\n",
    "pattern = re.compile(k)\n",
    "r = pattern.search(S)\n",
    "if not r: print(\"(-1, -1)\")\n",
    "while r:\n",
    "    print(\"({0}, {1})\".format(r.start(), r.end() - 1))\n",
    "    r = pattern.search(S,r.start() + 1)\n"
   ]
  },
  {
   "cell_type": "code",
   "execution_count": null,
   "id": "8ff02876",
   "metadata": {},
   "outputs": [],
   "source": [
    "## 6. REGEX SUBSTITUTION ....\n",
    "\n",
    "import re\n",
    "\n",
    "ii = int(input())\n",
    "\n",
    "for i in range(0,ii):\n",
    "   txt = input()\n",
    "   txt = re.sub(r\"\\ \\&\\&\\ \",\" and \",txt)\n",
    "   txt = re.sub(r\"\\ \\|\\|\\ \",\" or \",txt)\n",
    "   txt = re.sub(r\"\\ \\&\\&\\ \",\" and \",txt)\n",
    "   txt = re.sub(r\"\\ \\|\\|\\ \",\" or \",txt)\n",
    "   print(txt)"
   ]
  },
  {
   "cell_type": "code",
   "execution_count": 8,
   "id": "e158722e",
   "metadata": {},
   "outputs": [
    {
     "name": "stdout",
     "output_type": "stream",
     "text": [
      "CDXXI\n",
      "True\n"
     ]
    }
   ],
   "source": [
    "## 7. VALIDATING ROMAN NUMERALS ....\n",
    "\n",
    "thousand = 'M{0,3}'\n",
    "hundred = '(C[MD]|D?C{0,3})'\n",
    "ten = '(X[CL]|L?X{0,3})'\n",
    "digit = '(I[VX]|V?I{0,3})'\n",
    "regex_pattern = r\"%s%s%s%s$\" % (thousand, hundred, ten, digit)   # Do not delete 'r'\t# Do not delete 'r'.\n",
    "\n",
    "import re\n",
    "print(str(bool(re.match(regex_pattern, input()))))"
   ]
  },
  {
   "cell_type": "code",
   "execution_count": 9,
   "id": "7f4fd887",
   "metadata": {},
   "outputs": [
    {
     "name": "stdout",
     "output_type": "stream",
     "text": [
      "2\n",
      "9587456281\n",
      "YES\n",
      "1252478965\n",
      "NO\n"
     ]
    }
   ],
   "source": [
    "## 8. VALIDATING PHONE NUMBERS....\n",
    "\n",
    "import re\n",
    "for _ in range(int(input())):\n",
    "    if re.match(r'[789]\\d{9}$',input()):   \n",
    "        print('YES')  \n",
    "    else:  \n",
    "        print('NO')"
   ]
  },
  {
   "cell_type": "code",
   "execution_count": 10,
   "id": "a1732d63",
   "metadata": {},
   "outputs": [
    {
     "name": "stdout",
     "output_type": "stream",
     "text": [
      "2\n",
      "DEXTER <dexter@hotmail.com>\n",
      "DEXTER <dexter@hotmail.com>\n",
      "VIRUS <virus!@variable.:p>\n"
     ]
    }
   ],
   "source": [
    "## 9. VALIDATING AND PARSING EAMIL ADDRESSES...\n",
    "\n",
    "import re\n",
    "n = int(input())\n",
    "for _ in range(n):\n",
    "    x, y = input().split(' ')\n",
    "    m = re.match(r'<[A-Za-z](\\w|-|\\.|_)+@[A-Za-z]+\\.[A-Za-z]{1,3}>', y)\n",
    "    if m:\n",
    "        print(x,y)\n"
   ]
  },
  {
   "cell_type": "code",
   "execution_count": 11,
   "id": "64f468a3",
   "metadata": {},
   "outputs": [
    {
     "name": "stdout",
     "output_type": "stream",
     "text": [
      "11\n",
      "#BED\n",
      "{\n",
      "    color: #FfFdF8; background-color:#aef;   \n",
      "#FfFdF8\n",
      "#aef\n",
      "     font-size: 123px;     \n",
      "     background: -webkit-linear-gradient(top, #f9f9f9, #fff); }\n",
      "#f9f9f9\n",
      "#fff\n",
      "}\n",
      "#Cab\n",
      "{\n",
      "    background-color: #ABC;     \n",
      "#ABC\n",
      "   border: 2px dashed #fff;\n",
      "#fff\n",
      "}\n"
     ]
    }
   ],
   "source": [
    "## 10. HEX COLOR CODE ....\n",
    "\n",
    "import re\n",
    "N=int(input())\n",
    "\n",
    "for i in range(0,N):\n",
    "    s=input()\n",
    "\n",
    "    x=s.split()\n",
    "\n",
    "    if len(x)>1  and  '{' not in x:\n",
    "        x=re.findall(r'#[a-fA-F0-9]{3,6}',s)\n",
    "        [print(i) for  i in x]"
   ]
  },
  {
   "cell_type": "code",
   "execution_count": 12,
   "id": "26f2f1f2",
   "metadata": {},
   "outputs": [
    {
     "name": "stdout",
     "output_type": "stream",
     "text": [
      "2\n",
      "<html><head><title>HTML Parser - I</title></head>\n",
      "<body data-modal-target class='1'><h1>HackerRank</h1><br /></body></html>\n",
      "Start : html\n",
      "Start : head\n",
      "Start : title\n",
      "End   : title\n",
      "End   : head\n",
      "Start : body\n",
      "-> data-modal-target > None\n",
      "-> class > 1\n",
      "Start : h1\n",
      "End   : h1\n",
      "Empty : br\n",
      "End   : body\n",
      "End   : html\n"
     ]
    }
   ],
   "source": [
    "## 11. HTML PARSER -1 ....  \n",
    "\n",
    "from html.parser import HTMLParser\n",
    "class MyHTMLParser(HTMLParser):\n",
    "    def handle_starttag(self, tag, attrs):        \n",
    "        print ('Start :',tag)\n",
    "        for ele in attrs:\n",
    "            print ('->',ele[0],'>',ele[1])\n",
    "            \n",
    "    def handle_endtag(self, tag):\n",
    "        print ('End   :',tag)\n",
    "        \n",
    "    def handle_startendtag(self, tag, attrs):\n",
    "        print ('Empty :',tag)\n",
    "        for ele in attrs:\n",
    "            print ('->',ele[0],'>',ele[1])\n",
    "            \n",
    "MyParser = MyHTMLParser()\n",
    "MyParser.feed(''.join([input().strip() for _ in range(int(input()))]))\n",
    "\n"
   ]
  },
  {
   "cell_type": "code",
   "execution_count": 15,
   "id": "98a67c53",
   "metadata": {},
   "outputs": [
    {
     "name": "stdout",
     "output_type": "stream",
     "text": [
      "4\n",
      "<!--[if IE 9]>IE9-specific content\n",
      "<![endif]-->\n",
      "<div> Welcome to HackerRank</div>\n",
      "<!--[if IE 9]>IE9-specific content<![endif]-->\n",
      ">>> Multi-line Comment\n",
      "[if IE 9]>IE9-specific content\n",
      "<![endif]\n",
      ">>> Data\n",
      " Welcome to HackerRank\n",
      ">>> Single-line Comment\n",
      "[if IE 9]>IE9-specific content<![endif]\n"
     ]
    }
   ],
   "source": [
    "## 12. HTML PARSER-2..... \n",
    "\n",
    "from html.parser import HTMLParser\n",
    "\n",
    "class MyHTMLParser(HTMLParser):\n",
    "    def handle_comment(self, data):\n",
    "        if (len(data.split('\\n')) != 1):\n",
    "            print(\">>> Multi-line Comment\")\n",
    "        else:\n",
    "            print(\">>> Single-line Comment\")\n",
    "        print(data.replace(\"\\r\", \"\\n\"))\n",
    "    def handle_data(self, data):\n",
    "        if data.strip():\n",
    "            print(\">>> Data\")\n",
    "            print(data)\n",
    " \n",
    "html = \"\"       \n",
    "for i in range(int(input())):\n",
    "    html += input().rstrip()\n",
    "    html += '\\n'\n",
    "    \n",
    "parser = MyHTMLParser()\n",
    "parser.feed(html)\n",
    "parser.close()\n"
   ]
  },
  {
   "cell_type": "code",
   "execution_count": 16,
   "id": "3fbd042a",
   "metadata": {},
   "outputs": [
    {
     "name": "stdout",
     "output_type": "stream",
     "text": [
      "9\n",
      "<head>\n",
      "<title>HTML</title>\n",
      "\n",
      "\n",
      "\n",
      "\n",
      "\n",
      "\n",
      "\n",
      "head\n",
      "title\n"
     ]
    }
   ],
   "source": [
    "## 13. DETECT HTML TAGS, ATTRIBUTES AND ATTRIBUTES VALUES .......\n",
    "\n",
    "from html.parser import HTMLParser\n",
    "class MyHTMLParser(HTMLParser):\n",
    "    def handle_starttag(self, tag, attrs):\n",
    "        print(tag)\n",
    "        [print('-> {} > {}'.format(*attr)) for attr in attrs]\n",
    "        \n",
    "html = '\\n'.join([input() for _ in range(int(input()))])\n",
    "parser = MyHTMLParser()\n",
    "parser.feed(html)\n",
    "parser.close()\n",
    "\n",
    "\n",
    "\n",
    "\n"
   ]
  },
  {
   "cell_type": "code",
   "execution_count": 17,
   "id": "db53da48",
   "metadata": {},
   "outputs": [
    {
     "name": "stdout",
     "output_type": "stream",
     "text": [
      "2\n",
      "B1CD102354 \n",
      "Invalid\n",
      "B1CDEF2354\n",
      "Valid\n"
     ]
    }
   ],
   "source": [
    "## 14. validating UID ......\n",
    "\n",
    "import re\n",
    "\n",
    "for _ in range(int(input())):\n",
    "    u = ''.join(sorted(input()))\n",
    "    try:\n",
    "        assert re.search(r'[A-Z]{2}', u)\n",
    "        assert re.search(r'\\d\\d\\d', u)\n",
    "        assert not re.search(r'[^a-zA-Z0-9]', u)\n",
    "        assert not re.search(r'(.)\\1', u)\n",
    "        assert len(u) == 10\n",
    "    except:\n",
    "        print('Invalid')\n",
    "    else:\n",
    "        print('Valid')\n"
   ]
  },
  {
   "cell_type": "code",
   "execution_count": 18,
   "id": "89d713ec",
   "metadata": {},
   "outputs": [
    {
     "name": "stdout",
     "output_type": "stream",
     "text": [
      "6\n",
      "4123456789123456\n",
      "Valid\n",
      "5123-4567-8912-3456\n",
      "Valid\n",
      "61234-567-8912-3456\n",
      "Invalid\n",
      "4123356789123456\n",
      "Valid\n",
      "\n",
      "Invalid\n",
      "5123 - 3567 - 8912 - 3456\n",
      "Invalid\n"
     ]
    }
   ],
   "source": [
    "## 15. VALIDATING CREDIT CARDS ....\n",
    "\n",
    "import re\n",
    "TESTER = re.compile(\n",
    "    r\"^\"\n",
    "    r\"(?!.*(\\d)(-?\\1){3})\"\n",
    "    r\"[456]\"\n",
    "    r\"\\d{3}\"\n",
    "    r\"(?:-?\\d{4}){3}\"\n",
    "    r\"$\")\n",
    "for _ in range(int(input().strip())):\n",
    "    print(\"Valid\" if TESTER.search(input().strip()) else \"Invalid\")\n"
   ]
  },
  {
   "cell_type": "code",
   "execution_count": null,
   "id": "dcb9e5a6",
   "metadata": {},
   "outputs": [],
   "source": [
    "## 16. MATRIX SCRIPTS.... \n",
    "\n",
    "import math\n",
    "import os\n",
    "import random\n",
    "import re\n",
    "import sys\n",
    "\n",
    "\n",
    "\n",
    "\n",
    "first_multiple_input = input().rstrip().split()\n",
    "\n",
    "n = int(first_multiple_input[0])\n",
    "\n",
    "m = int(first_multiple_input[1])\n",
    "\n",
    "matrix = []\n",
    "\n",
    "for _ in range(n):\n",
    "    matrix_item = input()\n",
    "    matrix.append(matrix_item)\n",
    "\n",
    "encoded_string = \"\".join([matrix[j][i] for i in range(m) for j in range(n)])\n",
    "pat = r'(?<=[a-zA-Z0-9])[^a-zA-Z0-9]+(?=[a-zA-Z0-9])'\n",
    "print(re.sub(pat,' ',encoded_string))\n"
   ]
  },
  {
   "cell_type": "code",
   "execution_count": null,
   "id": "3d89684f",
   "metadata": {},
   "outputs": [],
   "source": []
  },
  {
   "cell_type": "code",
   "execution_count": null,
   "id": "d1351767",
   "metadata": {},
   "outputs": [],
   "source": []
  }
 ],
 "metadata": {
  "kernelspec": {
   "display_name": "Python 3 (ipykernel)",
   "language": "python",
   "name": "python3"
  },
  "language_info": {
   "codemirror_mode": {
    "name": "ipython",
    "version": 3
   },
   "file_extension": ".py",
   "mimetype": "text/x-python",
   "name": "python",
   "nbconvert_exporter": "python",
   "pygments_lexer": "ipython3",
   "version": "3.10.5"
  }
 },
 "nbformat": 4,
 "nbformat_minor": 5
}
