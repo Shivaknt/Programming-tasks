{
 "cells": [
  {
   "cell_type": "code",
   "execution_count": 1,
   "id": "e8eba39c",
   "metadata": {},
   "outputs": [
    {
     "name": "stdout",
     "output_type": "stream",
     "text": [
      "1+2j\n",
      "2.23606797749979\n",
      "1.1071487177940904\n"
     ]
    }
   ],
   "source": [
    "## 1. POLAR COORDINATES....\n",
    "\n",
    "import cmath\n",
    "import math\n",
    "n=complex(input())\n",
    "x=complex(n)\n",
    "print(cmath.polar(x)[0])\n",
    "print(cmath.polar(x)[1])\n"
   ]
  },
  {
   "cell_type": "code",
   "execution_count": 2,
   "id": "0df1240f",
   "metadata": {},
   "outputs": [
    {
     "name": "stdout",
     "output_type": "stream",
     "text": [
      "10\n",
      "10\n",
      "45°\n"
     ]
    }
   ],
   "source": [
    "##. 2. FIND ANGLE MBC...\n",
    "\n",
    "import math\n",
    "AB=int(input())\n",
    "BC=int(input())\n",
    "H=math.sqrt(AB**2 + BC**2)\n",
    "H=H/2.0\n",
    "adj=BC/2.0\n",
    "out=int(round(math.degrees(math.acos(adj/H))))\n",
    "out=str(out)\n",
    "degree_sign = u\"\\N{DEGREE SIGN}\"\n",
    "print(out+degree_sign)\n"
   ]
  },
  {
   "cell_type": "code",
   "execution_count": 3,
   "id": "bb851cdc",
   "metadata": {},
   "outputs": [
    {
     "name": "stdout",
     "output_type": "stream",
     "text": [
      "5\n",
      "1\n",
      "121\n",
      "12321\n",
      "1234321\n",
      "123454321\n"
     ]
    }
   ],
   "source": [
    "### 3. TRIANGLE QUEST 2....\n",
    "\n",
    "for i in range(1,int(input())+1):\n",
    "    print((pow(10,i)//9)**2)"
   ]
  },
  {
   "cell_type": "code",
   "execution_count": 4,
   "id": "0bd781f9",
   "metadata": {},
   "outputs": [
    {
     "name": "stdout",
     "output_type": "stream",
     "text": [
      "177\n",
      "10\n",
      "17\n",
      "7\n",
      "(17, 7)\n"
     ]
    }
   ],
   "source": [
    "## 4.  MOD DIVMOD....\n",
    "\n",
    "import cmath\n",
    "import math\n",
    "a=int(input())\n",
    "b=int(input())\n",
    "x=a/b\n",
    "print(int(x))\n",
    "y=a%b\n",
    "print(y)\n",
    "print((int(x),y))\n"
   ]
  },
  {
   "cell_type": "code",
   "execution_count": 5,
   "id": "7906dd09",
   "metadata": {},
   "outputs": [
    {
     "name": "stdout",
     "output_type": "stream",
     "text": [
      "3\n",
      "4\n",
      "5\n",
      "81\n",
      "1\n"
     ]
    }
   ],
   "source": [
    "## 5. POWER-MOD POWER....\n",
    "\n",
    "a=int(input())\n",
    "b=int(input())\n",
    "m=int(input())\n",
    "print(pow(a,b))\n",
    "print(pow(a,b,m))\n"
   ]
  },
  {
   "cell_type": "code",
   "execution_count": 7,
   "id": "6df85027",
   "metadata": {},
   "outputs": [
    {
     "name": "stdout",
     "output_type": "stream",
     "text": [
      "9\n",
      "29\n",
      "7\n",
      "27\n",
      "4710194409608608369201743232\n"
     ]
    }
   ],
   "source": [
    "## 6. INTEGERS COME IN ALL SIZES... \n",
    "\n",
    "\n",
    "\n",
    "a=int(input())\n",
    "b=int(input())\n",
    "c=int(input())\n",
    "d=int(input())\n",
    "s=pow(a,b)\n",
    "m=pow(c,d)\n",
    "print(s+m)\n"
   ]
  },
  {
   "cell_type": "code",
   "execution_count": 8,
   "id": "a1844c40",
   "metadata": {},
   "outputs": [
    {
     "name": "stdout",
     "output_type": "stream",
     "text": [
      "5\n",
      "1\n",
      "22\n",
      "333\n",
      "4444\n"
     ]
    }
   ],
   "source": [
    "## 7. TRIANGLE QUEST..... \n",
    "\n",
    "for i in range(1,int(input())): \n",
    "    print(int((i*10**i)/9))\n"
   ]
  },
  {
   "cell_type": "code",
   "execution_count": null,
   "id": "fb12793a",
   "metadata": {},
   "outputs": [],
   "source": []
  }
 ],
 "metadata": {
  "kernelspec": {
   "display_name": "Python 3 (ipykernel)",
   "language": "python",
   "name": "python3"
  },
  "language_info": {
   "codemirror_mode": {
    "name": "ipython",
    "version": 3
   },
   "file_extension": ".py",
   "mimetype": "text/x-python",
   "name": "python",
   "nbconvert_exporter": "python",
   "pygments_lexer": "ipython3",
   "version": "3.10.5"
  }
 },
 "nbformat": 4,
 "nbformat_minor": 5
}
